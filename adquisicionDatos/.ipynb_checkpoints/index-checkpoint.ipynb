{
 "cells": [
  {
   "cell_type": "markdown",
   "metadata": {},
   "source": [
    "# Estructura de la Base de Datos (BD)"
   ]
  },
  {
   "cell_type": "markdown",
   "metadata": {},
   "source": [
    "La base de datos fue construida con base al modelo NoSQL debido a las siguientes condiciones:\n",
    "    \n",
    "    1. Un usuario puede tener asignadas solicitudes sin un patron obligatorio (tener una, tener varias).\n",
    "    \n",
    "    2. Una solicitud o una orden de compra pueden tener asignados items sin un patron obligatorio (tener uno, tener varios)\n",
    "    \n",
    "    3. Esta estructura puede utilizarse tambien para ligarse con Moongosee a una API para gestionar información desde la aplicación web de la empresa."
   ]
  },
  {
   "cell_type": "markdown",
   "metadata": {},
   "source": [
    "Como resultado se utilizo el siguiente diagrama desarrollado con la herramienta Moon Modeler para represntar graficamente las colecciones, los tipos de datos y las relaciones en el modelo de la BD."
   ]
  },
  {
   "cell_type": "markdown",
   "metadata": {},
   "source": [
    "![image.png](../recursos/diagramaEntidad-RelacionMM.png)"
   ]
  },
  {
   "cell_type": "markdown",
   "metadata": {},
   "source": [
    "Por cada colección existe un kernel para exportar registros directamente a la base de datos en MongoDB considerando en algunas colecciones ordenes repetitivas, objetos anidados y adición de registros especificos.\n",
    "\n",
    "\n",
    "El kernel **_raw_** actualiza toda la información en un dataframe para el uso del resto de los codigos de análisis."
   ]
  },
  {
   "cell_type": "code",
   "execution_count": null,
   "metadata": {},
   "outputs": [],
   "source": []
  }
 ],
 "metadata": {
  "kernelspec": {
   "display_name": "Python 3",
   "language": "python",
   "name": "python3"
  },
  "language_info": {
   "codemirror_mode": {
    "name": "ipython",
    "version": 3
   },
   "file_extension": ".py",
   "mimetype": "text/x-python",
   "name": "python",
   "nbconvert_exporter": "python",
   "pygments_lexer": "ipython3",
   "version": "3.8.0"
  }
 },
 "nbformat": 4,
 "nbformat_minor": 4
}
