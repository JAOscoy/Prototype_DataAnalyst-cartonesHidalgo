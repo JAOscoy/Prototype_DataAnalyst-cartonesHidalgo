{
 "cells": [
  {
   "cell_type": "markdown",
   "metadata": {},
   "source": [
    "# Crear solicitudes de servicio"
   ]
  },
  {
   "cell_type": "markdown",
   "metadata": {},
   "source": [
    "Configuramos un controlador para crear solicitudes de servicio en formato JSON con mayor agilidad a traves del kernel."
   ]
  },
  {
   "cell_type": "code",
   "execution_count": 1,
   "metadata": {},
   "outputs": [],
   "source": [
    "import pandas as pd\n",
    "import certifi\n",
    "import pymongo as py\n",
    "import datetime\n",
    "import bson\n",
    "import os"
   ]
  },
  {
   "cell_type": "code",
   "execution_count": 2,
   "metadata": {},
   "outputs": [],
   "source": [
    "# Creamos una variable con la conexion a la base de datos\n",
    "\n",
    "from pymongo import MongoClient\n",
    "from dotenv import load_dotenv # Get env variables\n",
    "load_dotenv()\n",
    "\n",
    "mongo_uri = os.getenv('MONGO_URI')\n",
    "cartonadoradores = MongoClient(mongo_uri)\n",
    "\n",
    "\n",
    "# Seleccionamos la BD previamente creada en mongo shell y con las validaciones ya configuradas.\n",
    "\n",
    "df = cartonadoradores['cartonadoradores']\n",
    "\n",
    "# Importamos el metodo para introducir objectId directamente.\n",
    "\n",
    "from bson import ObjectId"
   ]
  },
  {
   "cell_type": "markdown",
   "metadata": {},
   "source": [
    "### Validación del esquema de validación en MongoDB\n",
    "\n",
    "![image.png](../recursos/validacionSolicitudesServicio.png)"
   ]
  },
  {
   "cell_type": "code",
   "execution_count": 35,
   "metadata": {},
   "outputs": [],
   "source": [
    "# Función para introducir solicitudes a la BD. La validación del tipo de dato esta configurada en la BD. \n",
    "\n",
    "def crearsolicitudServicio(idUsuario, tipo, estado, foliointerno: str, idServicio, idLocal, descripcion, importe: float, fechaEmision, fechaCierre):\n",
    "    df.solicitudesServicios.insert_one({\n",
    "    \"idUsuario\": ObjectId(idUsuario),\n",
    "    \"tipo\": tipo,\n",
    "    \"estado\": estado,\n",
    "    \"foliointerno\": foliointerno,\n",
    "    \"Servicios\": [{\"idServicio\" : ObjectId(idServicio),\n",
    "                \"idLocal\" : idLocal,\n",
    "                \"descripcion\": descripcion,\n",
    "                \"importe\": importe\n",
    "                }],\n",
    "    \"fechaEmision\": datetime.datetime.strptime(fechaEmision, '%Y-%m-%d'),\n",
    "    \"fechaCierre\": datetime.datetime.strptime(fechaCierre, '%Y-%m-%d')\n",
    "    })\n",
    "    \n",
    "# Como una orden puede tener más de un servicio, creamos una función para añadir uno.\n",
    "    \n",
    "def agregarServicio(idOrden, idServicio, idLocal, descripcion, importe: float):\n",
    "    df.solicitudesServicios.update_one({\"_id\": ObjectId(idOrden)}, {'$push': {\"Servicios\": {\n",
    "        \"idServicio\" : ObjectId(idServicio),\n",
    "        \"idLocal\" : idLocal,\n",
    "        \"descripcion\": descripcion,\n",
    "        \"importe\": importe\n",
    "    }}})"
   ]
  },
  {
   "cell_type": "code",
   "execution_count": 43,
   "metadata": {},
   "outputs": [],
   "source": [
    "# Corremos la funcion para agregar solicitudes.\n",
    "\n",
    "crearsolicitudServicio('5fbb61187757f4349a0027bd',\\\n",
    "             'ordenProduccion', \\\n",
    "             'abierta', \\\n",
    "             '0000000031', \\\n",
    "                '5fbb61187757f4349a0027bd',\\\n",
    "                'idServicio',\\\n",
    "                'piezas',\\\n",
    "                 30375.01,\\\n",
    "             '2020-09-09',\\\n",
    "             '2020-09-10')"
   ]
  },
  {
   "cell_type": "code",
   "execution_count": 39,
   "metadata": {},
   "outputs": [],
   "source": [
    "# Corremos la funcion para agregar un servicio.\n",
    "\n",
    "agregarServicio('5fc2ba0f63a03f8681500703','5fc2bbb804237895cbc61541',\\\n",
    "                'jojo',\\\n",
    "                'red riot',\\\n",
    "                 58.1)"
   ]
  },
  {
   "cell_type": "code",
   "execution_count": null,
   "metadata": {},
   "outputs": [],
   "source": []
  }
 ],
 "metadata": {
  "kernelspec": {
   "display_name": "Python 3",
   "language": "python",
   "name": "python3"
  },
  "language_info": {
   "codemirror_mode": {
    "name": "ipython",
    "version": 3
   },
   "file_extension": ".py",
   "mimetype": "text/x-python",
   "name": "python",
   "nbconvert_exporter": "python",
   "pygments_lexer": "ipython3",
   "version": "3.8.0"
  }
 },
 "nbformat": 4,
 "nbformat_minor": 4
}
