{
 "cells": [
  {
   "cell_type": "markdown",
   "metadata": {},
   "source": [
    "# Analisis de la información"
   ]
  },
  {
   "cell_type": "markdown",
   "metadata": {},
   "source": [
    "Una vez que la información fue exportada desde el kernel **_'../adquisicionDatos/raw.ipynb'_**, usaremos este dataframe para analizar la información más relevante de las operaciones de venta y las relaciones existentes entre los clientes y las categorias de cada producto.\n",
    "\n",
    "A continuacion describire el significado de cada columna y el objetivo en cada kernel de esta carpeta."
   ]
  },
  {
   "cell_type": "markdown",
   "metadata": {},
   "source": [
    "## Columnas"
   ]
  },
  {
   "cell_type": "markdown",
   "metadata": {},
   "source": [
    "1. foliointerno: El folio que tiene cada orden de compra asignado por el cliente. Es un valor unico.\n",
    "\n",
    "2. _id: El ObjectId de cada orden.\n",
    "\n",
    "3. Usuario.razonSocial: El nombre de la organización para identificar al cliente.\n",
    "\n",
    "4. Productos.idLocal: El id unico con el que cada cliente identifica el articulo comprado.\n",
    "\n",
    "5. Productos.unidades: Las unidades de la venta. Siempre es en millares.\n",
    "\n",
    "6. Productos.cantidad: Cantidad de millares por articulo.\n",
    "\n",
    "7. Productos.importe: Precio total de compra por articulo.\n",
    "\n",
    "8. Especificaciones.estructura: El tipo de la forma de la caja vendida.\n",
    "\n",
    "9. Especificaciones.tipo: La configuración de fabricación para pegado.\n",
    "\n",
    "10. Especificaciones.calibreECT: El calibre del carton de cada articulo.\n",
    "\n",
    "11. Especificaciones.caraExterior: El tipo de acabado pintura del corrugado.\n",
    "12. Especificaciones.largo: Las dimensiones en cm del largo del articulo.\n",
    "\n",
    "13. Especificaciones.ancho: Las dimensiones en cm del ancho del articulo.\n",
    "\n",
    "14. Especificaciones.alto: Las dimensiones en cm del alto del articulo.\n",
    "\n",
    "15. Especificaciones.tipoUnion: El metodo y posición de la ceja para cerrar el articulo.\n",
    "\n",
    "16. Especificaciones.suaje: Booleano en caso de llevar un acabado especial para doblado especifico.\n",
    "\n",
    "17. Productos.precioUnitario: El precio pagado por unidad (millar) de cada articulo por el cliente.\n",
    "\n",
    "18. precios.precioGeneralm2: El precio por 1 caja solamente importado desde la lista oficial.\n",
    "\n",
    "19. fechaEmision: El dia de la compra.\n",
    "\n",
    "20. Especificaciones.longitudLamina: Largo de la materia prima. \n",
    "\n",
    "21. Especificaciones.anchoLamina: Ancho de la materia prima.\n",
    "\n",
    "22. areaM2: El area total por cada caja. Con ella se calcula el precio de lista.\n",
    "\n",
    "23. precioListaMillares: El precio de lista por millar de cada articulo."
   ]
  },
  {
   "cell_type": "markdown",
   "metadata": {},
   "source": [
    "### Análisis especificos"
   ]
  },
  {
   "cell_type": "markdown",
   "metadata": {},
   "source": [
    "1. El archivo **_'precioMaterial.ipynb'_** contiene los metodos necesarios para relacionar el dataframe original con la lista de precios sugeridos a cotizar **_'../recursos/listaPrecios2020.csv'_** y crear las columnas necesarias para calcular el area total y el costo real de cada producto."
   ]
  },
  {
   "cell_type": "markdown",
   "metadata": {},
   "source": [
    "2. El archivo **_'ventasArticulo.ipynb'_** contiene los metodos necesarios y las graficas para representar las **unidades totales vendidas** y el **monto total de venta** por cada cliente.\n",
    "   "
   ]
  },
  {
   "cell_type": "markdown",
   "metadata": {},
   "source": [
    "3. El archivo **_'consumoTotal.ipynb'_** contiene los metodos y graficas necesarios para representar el consumo total de materia prima por cada mes de operación, categorizando por calibre para pronosticar un inventario estimado."
   ]
  }
 ],
 "metadata": {
  "kernelspec": {
   "display_name": "Python 3",
   "language": "python",
   "name": "python3"
  },
  "language_info": {
   "codemirror_mode": {
    "name": "ipython",
    "version": 3
   },
   "file_extension": ".py",
   "mimetype": "text/x-python",
   "name": "python",
   "nbconvert_exporter": "python",
   "pygments_lexer": "ipython3",
   "version": "3.8.0"
  }
 },
 "nbformat": 4,
 "nbformat_minor": 4
}
