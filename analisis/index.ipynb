{
 "cells": [
  {
   "cell_type": "markdown",
   "metadata": {},
   "source": [
    "# Analisis de la información"
   ]
  },
  {
   "cell_type": "markdown",
   "metadata": {},
   "source": [
    "Una vez que la información fue exportada desde el kernel **_'../adquisicionDatos/raw.ipynb'_**, usaremos este dataframe para analizar la información más relevante de las operaciones de venta y las relaciones existentes entre los clientes y las categorias de cada producto.\n",
    "\n",
    "A continuacion describire el significado de cada columna y el objetivo en cada kernel de esta carpeta"
   ]
  },
  {
   "cell_type": "markdown",
   "metadata": {},
   "source": [
    "1. El archivo **_'precioMaterial.ipynb'_** contiene los metodos necesarios para relacionar el dataframe original con la lista de precios sugeridos a cotizar **_'../recursos/listaPrecios2020.csv'_** y crear las columnas necesarias para calcular el area total y el costo real de cada producto."
   ]
  },
  {
   "cell_type": "markdown",
   "metadata": {},
   "source": [
    "2. El archivo **_'ventasArticulo.ipynb'_** contiene los metodos necesarios y las graficas para representar las **unidades totales vendidas** y el **monto total de venta** por cada cliente.\n",
    "   "
   ]
  },
  {
   "cell_type": "markdown",
   "metadata": {},
   "source": [
    "3. El archivo **_'consumoTotal.ipynb'_** contiene los metodos y graficas necesarios para representar el consumo total por cada mes de operación."
   ]
  },
  {
   "cell_type": "code",
   "execution_count": null,
   "metadata": {},
   "outputs": [],
   "source": [
    "# Realizamos la agrupación por usuario y especificación sumando el importe total cobrado por producto\n",
    "\n",
    "df['fechaEmision'] = pd.to_datetime(df['fechaEmision'])\n",
    "ventasCliente = df.groupby([df['fechaEmision'].dt.month, df['fechaEmision'].dt.year])['areaM2'].sum()\n",
    "ventasCliente"
   ]
  }
 ],
 "metadata": {
  "kernelspec": {
   "display_name": "Python 3",
   "language": "python",
   "name": "python3"
  },
  "language_info": {
   "codemirror_mode": {
    "name": "ipython",
    "version": 3
   },
   "file_extension": ".py",
   "mimetype": "text/x-python",
   "name": "python",
   "nbconvert_exporter": "python",
   "pygments_lexer": "ipython3",
   "version": "3.8.0"
  }
 },
 "nbformat": 4,
 "nbformat_minor": 4
}
