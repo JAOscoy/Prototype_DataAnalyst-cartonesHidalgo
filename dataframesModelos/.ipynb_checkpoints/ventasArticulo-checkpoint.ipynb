{
 "cells": [
  {
   "cell_type": "code",
   "execution_count": 9,
   "metadata": {},
   "outputs": [],
   "source": [
    "import pandas as pd"
   ]
  },
  {
   "cell_type": "code",
   "execution_count": 10,
   "metadata": {},
   "outputs": [],
   "source": [
    "l = pd.read_csv('Untitled.csv')"
   ]
  },
  {
   "cell_type": "code",
   "execution_count": 8,
   "metadata": {},
   "outputs": [
    {
     "data": {
      "text/plain": [
       "0     [{\"idProducto\":{\"$oid\":\"5fc3f66e30024fb085af64...\n",
       "1     [{\"idProducto\":{\"$oid\":\"5fc3f66e30024fb085af64...\n",
       "2     [{\"idProducto\":{\"$oid\":\"5fc3f66e30024fb085af64...\n",
       "3     [{\"idProducto\":{\"$oid\":\"5fc3f66e30024fb085af64...\n",
       "4     [{\"idProducto\":{\"$oid\":\"5fc3f66e30024fb085af64...\n",
       "5     [{\"idProducto\":{\"$oid\":\"5fc3f66e30024fb085af64...\n",
       "6     [{\"idProducto\":{\"$oid\":\"5fc3f66e30024fb085af64...\n",
       "7     [{\"idProducto\":{\"$oid\":\"5fc3f66e30024fb085af64...\n",
       "8     [{\"idProducto\":{\"$oid\":\"5fc3f66e30024fb085af64...\n",
       "9     [{\"idProducto\":{\"$oid\":\"5fc3f66e30024fb085af64...\n",
       "10    [{\"idProducto\":{\"$oid\":\"5fc3f66e30024fb085af64...\n",
       "11    [{\"idProducto\":{\"$oid\":\"5fc3f66e30024fb085af64...\n",
       "12    [{\"idProducto\":{\"$oid\":\"5fc3f66e30024fb085af64...\n",
       "13    [{\"idProducto\":{\"$oid\":\"5fc3f66e30024fb085af64...\n",
       "14    [{\"idProducto\":{\"$oid\":\"5fc3f66e30024fb085af64...\n",
       "15    [{\"idProducto\":{\"$oid\":\"5fc3f66e30024fb085af64...\n",
       "16    [{\"idProducto\":{\"$oid\":\"5fc3f66e30024fb085af64...\n",
       "17    [{\"idProducto\":{\"$oid\":\"5fc3f66e30024fb085af64...\n",
       "18    [{\"idProducto\":{\"$oid\":\"5fc3f66e30024fb085af64...\n",
       "19    [{\"idProducto\":{\"$oid\":\"5fc3f66e30024fb085af64...\n",
       "20    [{\"idProducto\":{\"$oid\":\"5fc3f66e30024fb085af64...\n",
       "21    [{\"idProducto\":{\"$oid\":\"5fc3f66e30024fb085af64...\n",
       "22    [{\"idProducto\":{\"$oid\":\"5fc3f66e30024fb085af64...\n",
       "23    [{\"idProducto\":{\"$oid\":\"5fc3f66e30024fb085af64...\n",
       "24    [{\"idProducto\":{\"$oid\":\"5fc3f66e30024fb085af64...\n",
       "25    [{\"idProducto\":{\"$oid\":\"5fc3f66e30024fb085af64...\n",
       "26    [{\"idProducto\":{\"$oid\":\"5fc3f66e30024fb085af64...\n",
       "27    [{\"idProducto\":{\"$oid\":\"5fc3f66e30024fb085af64...\n",
       "28    [{\"idProducto\":{\"$oid\":\"5fc3f66e30024fb085af64...\n",
       "29    [{\"idProducto\":{\"$oid\":\"5fc3f66e30024fb085af64...\n",
       "30    [{\"idProducto\":{\"$oid\":\"5fc3f66e30024fb085af64...\n",
       "31    [{\"idProducto\":{\"$oid\":\"5fc3f66e30024fb085af64...\n",
       "32    [{\"idProducto\":{\"$oid\":\"5fc3f66e30024fb085af64...\n",
       "33    [{\"idProducto\":{\"$oid\":\"5fc3f66e30024fb085af64...\n",
       "34    [{\"idProducto\":{\"$oid\":\"5fc3f66e30024fb085af64...\n",
       "35    [{\"idProducto\":{\"$oid\":\"5fc3f66e30024fb085af64...\n",
       "36    [{\"idProducto\":{\"$oid\":\"5fc3f66e30024fb085af64...\n",
       "37    [{\"idProducto\":{\"$oid\":\"5fc3f66e30024fb085af64...\n",
       "38    [{\"idProducto\":{\"$oid\":\"5fc3f66e30024fb085af64...\n",
       "39    [{\"idProducto\":{\"$oid\":\"5fc3f66e30024fb085af64...\n",
       "40    [{\"idProducto\":{\"$oid\":\"5fc3f66e30024fb085af64...\n",
       "41    [{\"idProducto\":{\"$oid\":\"5fc3f66e30024fb085af64...\n",
       "42    [{\"idProducto\":{\"$oid\":\"5fc3f66e30024fb085af64...\n",
       "43    [{\"idProducto\":{\"$oid\":\"5fc3f66e30024fb085af64...\n",
       "44    [{\"idProducto\":{\"$oid\":\"5fc3f66e30024fb085af64...\n",
       "45    [{\"idProducto\":{\"$oid\":\"5fc3f66e30024fb085af64...\n",
       "46    [{\"idProducto\":{\"$oid\":\"5fc3f66e30024fb085af64...\n",
       "47    [{\"idProducto\":{\"$oid\":\"5fc3f66e30024fb085af64...\n",
       "48    [{\"idProducto\":{\"$oid\":\"5fc3f66e30024fb085af64...\n",
       "49    [{\"idProducto\":{\"$oid\":\"5fc3f66e30024fb085af64...\n",
       "50    [{\"idProducto\":{\"$oid\":\"5fc3f66e30024fb085af64...\n",
       "51    [{\"idProducto\":{\"$oid\":\"5fc3f66e30024fb085af64...\n",
       "52    [{\"idProducto\":{\"$oid\":\"5fc3f66e30024fb085af64...\n",
       "Name: Productos, dtype: object"
      ]
     },
     "execution_count": 8,
     "metadata": {},
     "output_type": "execute_result"
    }
   ],
   "source": [
    "l['Productos']"
   ]
  },
  {
   "cell_type": "code",
   "execution_count": 11,
   "metadata": {},
   "outputs": [
    {
     "data": {
      "text/html": [
       "<div>\n",
       "<style scoped>\n",
       "    .dataframe tbody tr th:only-of-type {\n",
       "        vertical-align: middle;\n",
       "    }\n",
       "\n",
       "    .dataframe tbody tr th {\n",
       "        vertical-align: top;\n",
       "    }\n",
       "\n",
       "    .dataframe thead th {\n",
       "        text-align: right;\n",
       "    }\n",
       "</style>\n",
       "<table border=\"1\" class=\"dataframe\">\n",
       "  <thead>\n",
       "    <tr style=\"text-align: right;\">\n",
       "      <th></th>\n",
       "      <th>_id</th>\n",
       "      <th>idUsuario</th>\n",
       "      <th>tipo</th>\n",
       "      <th>estado</th>\n",
       "      <th>foliointerno</th>\n",
       "      <th>Productos.idProducto</th>\n",
       "      <th>Productos.unidades</th>\n",
       "      <th>Productos.precioUnitario</th>\n",
       "      <th>Productos.cantidad</th>\n",
       "      <th>Productos.importe</th>\n",
       "      <th>fechaEmision</th>\n",
       "      <th>fechaCierre</th>\n",
       "    </tr>\n",
       "    <tr>\n",
       "      <th>Productos.idLocal</th>\n",
       "      <th></th>\n",
       "      <th></th>\n",
       "      <th></th>\n",
       "      <th></th>\n",
       "      <th></th>\n",
       "      <th></th>\n",
       "      <th></th>\n",
       "      <th></th>\n",
       "      <th></th>\n",
       "      <th></th>\n",
       "      <th></th>\n",
       "      <th></th>\n",
       "    </tr>\n",
       "  </thead>\n",
       "  <tbody>\n",
       "    <tr>\n",
       "      <th>panela premium separador</th>\n",
       "      <td>53</td>\n",
       "      <td>53</td>\n",
       "      <td>53</td>\n",
       "      <td>53</td>\n",
       "      <td>53</td>\n",
       "      <td>53</td>\n",
       "      <td>53</td>\n",
       "      <td>53</td>\n",
       "      <td>53</td>\n",
       "      <td>53</td>\n",
       "      <td>53</td>\n",
       "      <td>53</td>\n",
       "    </tr>\n",
       "    <tr>\n",
       "      <th>panela premium suaje</th>\n",
       "      <td>53</td>\n",
       "      <td>53</td>\n",
       "      <td>53</td>\n",
       "      <td>53</td>\n",
       "      <td>53</td>\n",
       "      <td>53</td>\n",
       "      <td>53</td>\n",
       "      <td>53</td>\n",
       "      <td>53</td>\n",
       "      <td>53</td>\n",
       "      <td>53</td>\n",
       "      <td>53</td>\n",
       "    </tr>\n",
       "  </tbody>\n",
       "</table>\n",
       "</div>"
      ],
      "text/plain": [
       "                          _id  idUsuario  tipo  estado  foliointerno  \\\n",
       "Productos.idLocal                                                      \n",
       "panela premium separador   53         53    53      53            53   \n",
       "panela premium suaje       53         53    53      53            53   \n",
       "\n",
       "                          Productos.idProducto  Productos.unidades  \\\n",
       "Productos.idLocal                                                    \n",
       "panela premium separador                    53                  53   \n",
       "panela premium suaje                        53                  53   \n",
       "\n",
       "                          Productos.precioUnitario  Productos.cantidad  \\\n",
       "Productos.idLocal                                                        \n",
       "panela premium separador                        53                  53   \n",
       "panela premium suaje                            53                  53   \n",
       "\n",
       "                          Productos.importe  fechaEmision  fechaCierre  \n",
       "Productos.idLocal                                                       \n",
       "panela premium separador                 53            53           53  \n",
       "panela premium suaje                     53            53           53  "
      ]
     },
     "execution_count": 11,
     "metadata": {},
     "output_type": "execute_result"
    }
   ],
   "source": [
    "l.groupby('Productos.idLocal').count()"
   ]
  },
  {
   "cell_type": "code",
   "execution_count": null,
   "metadata": {},
   "outputs": [],
   "source": []
  }
 ],
 "metadata": {
  "kernelspec": {
   "display_name": "Python 3",
   "language": "python",
   "name": "python3"
  },
  "language_info": {
   "codemirror_mode": {
    "name": "ipython",
    "version": 3
   },
   "file_extension": ".py",
   "mimetype": "text/x-python",
   "name": "python",
   "nbconvert_exporter": "python",
   "pygments_lexer": "ipython3",
   "version": "3.8.0"
  }
 },
 "nbformat": 4,
 "nbformat_minor": 4
}
