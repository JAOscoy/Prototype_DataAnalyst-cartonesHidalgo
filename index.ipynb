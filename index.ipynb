{
 "cells": [
  {
   "cell_type": "markdown",
   "metadata": {},
   "source": [
    "# Proyecto Cartonadoradores"
   ]
  },
  {
   "cell_type": "markdown",
   "metadata": {},
   "source": [
    "Este proyecto tiene por objetivo la creación de un sistema gestión de información de las operaciones de la empresa \"Cartones de Hidalgo\", \n",
    "la cual busca ofrecer soluciones en venta de productos como servicios de asesoria a pequeñas y medianas empresas."
   ]
  },
  {
   "cell_type": "markdown",
   "metadata": {},
   "source": [
    "## Estructura"
   ]
  },
  {
   "cell_type": "markdown",
   "metadata": {},
   "source": [
    "1. Definición de la estructura de la base de datos para acoplar a un proyecto de stack MERN.\n",
    "\n",
    "2. Creación de validaciones para rechazar información con el formato incorrecto.\n",
    "\n",
    "3. Construcción de la base de datos con la información documentada hasta el dia de hoy.\n",
    "\n",
    "4. Creación, limpieza y manipulación de Dataframes para analisis de datos.\n",
    "\n",
    "5. Visualización de principales estadisticas con Seaborn.\n",
    "\n",
    "6. Herramientas de calculo y productividad."
   ]
  }
 ],
 "metadata": {
  "kernelspec": {
   "display_name": "Python 3",
   "language": "python",
   "name": "python3"
  },
  "language_info": {
   "codemirror_mode": {
    "name": "ipython",
    "version": 3
   },
   "file_extension": ".py",
   "mimetype": "text/x-python",
   "name": "python",
   "nbconvert_exporter": "python",
   "pygments_lexer": "ipython3",
   "version": "3.8.0"
  }
 },
 "nbformat": 4,
 "nbformat_minor": 4
}
